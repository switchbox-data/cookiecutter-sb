{
  "cells": [
    {
      "cell_type": "markdown",
      "metadata": {},
      "source": [
        "# Python Data Analysis with Polars and Seaborn\n",
        "\n",
        "This notebook demonstrates basic data analysis using modern Python tools: **Polars** for data manipulation and **Seaborn** for visualization.\n"
      ]
    },
    {
      "cell_type": "markdown",
      "metadata": {},
      "source": [
        "## Setup\n"
      ]
    },
    {
      "cell_type": "code",
      "execution_count": null,
      "metadata": {},
      "outputs": [],
      "source": [
        "import polars as pl\n",
        "import seaborn as sns\n",
        "import matplotlib.pyplot as plt\n",
        "import numpy as np\n",
        "\n",
        "# Set up plotting style\n",
        "sns.set_theme(style=\"whitegrid\")\n",
        "plt.rcParams['figure.figsize'] = (10, 6)\n"
      ]
    },
    {
      "cell_type": "markdown",
      "metadata": {},
      "source": [
        "## Create Sample Data\n",
        "\n",
        "Let's create a sample dataset using Polars:\n"
      ]
    },
    {
      "cell_type": "code",
      "execution_count": null,
      "metadata": {},
      "outputs": [],
      "source": [
        "# Generate sample data\n",
        "np.random.seed(42)\n",
        "n_samples = 1000\n",
        "\n",
        "data = pl.DataFrame({\n",
        "    \"category\": np.random.choice([\"A\", \"B\", \"C\", \"D\"], n_samples),\n",
        "    \"value\": np.random.normal(50, 15, n_samples),\n",
        "    \"score\": np.random.uniform(0, 100, n_samples),\n",
        "    \"group\": np.random.choice([\"Group1\", \"Group2\"], n_samples)\n",
        "})\n",
        "\n",
        "print(f\"Dataset shape: {data.shape}\")\n",
        "data.head()\n"
      ]
    },
    {
      "cell_type": "markdown",
      "metadata": {},
      "source": [
        "## Data Exploration with Polars\n",
        "\n",
        "Polars provides fast and expressive data manipulation:\n"
      ]
    },
    {
      "cell_type": "code",
      "execution_count": null,
      "metadata": {},
      "outputs": [],
      "source": [
        "# Group by operations\n",
        "category_summary = (\n",
        "    data\n",
        "    .group_by(\"category\")\n",
        "    .agg([\n",
        "        pl.col(\"value\").mean().alias(\"avg_value\"),\n",
        "        pl.col(\"score\").mean().alias(\"avg_score\"),\n",
        "        pl.len().alias(\"count\")\n",
        "    ])\n",
        "    .sort(\"avg_value\", descending=True)\n",
        ")\n",
        "\n",
        "print(\"Summary by Category:\")\n",
        "category_summary\n"
      ]
    },
    {
      "cell_type": "markdown",
      "metadata": {},
      "source": [
        "## Data Visualization with Seaborn\n",
        "\n",
        "Now let's create some visualizations using Seaborn:\n"
      ]
    },
    {
      "cell_type": "code",
      "execution_count": null,
      "metadata": {},
      "outputs": [],
      "source": [
        "# Convert to pandas for seaborn (seaborn works best with pandas)\n",
        "data_pd = data.to_pandas()\n",
        "\n",
        "# Distribution plot\n",
        "fig, (ax1, ax2) = plt.subplots(1, 2, figsize=(15, 6))\n",
        "\n",
        "sns.histplot(data=data_pd, x=\"value\", hue=\"category\", alpha=0.7, ax=ax1)\n",
        "ax1.set_title(\"Distribution of Values by Category\")\n",
        "\n",
        "sns.boxplot(data=data_pd, x=\"category\", y=\"score\", ax=ax2)\n",
        "ax2.set_title(\"Score Distribution by Category\")\n",
        "\n",
        "plt.tight_layout()\n",
        "plt.show()\n"
      ]
    },
    {
      "cell_type": "markdown",
      "metadata": {},
      "source": [
        "## Summary\n",
        "\n",
        "This notebook demonstrates:\n",
        "\n",
        "- \u2705 **Polars** for fast, expressive data manipulation\n",
        "- \u2705 **Seaborn** for statistical data visualization  \n",
        "- \u2705 Integration between Polars and visualization libraries\n",
        "- \u2705 Modern Python data science workflow\n",
        "\n",
        "### Key Takeaways:\n",
        "\n",
        "1. **Polars** is faster than pandas for large datasets and has a more consistent API\n",
        "2. **Seaborn** works well with pandas DataFrames (easy conversion with `.to_pandas()`)\n",
        "3. The combination provides a powerful, modern data analysis stack\n"
      ]
    }
  ],
  "metadata": {
    "language_info": {
      "name": "python"
    }
  },
  "nbformat": 4,
  "nbformat_minor": 2
}
