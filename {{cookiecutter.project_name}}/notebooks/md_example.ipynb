{
  "cells": [
    {
      "cell_type": "markdown",
      "metadata": {},
      "source": [
        "# Jupyter Markdown Example\n",
        "\n",
        "This notebook demonstrates basic **Jupyter notebook** capabilities using only markdown cells. It serves as a reference for text formatting and document structure in Jupyter.\n"
      ]
    },
    {
      "cell_type": "markdown",
      "metadata": {},
      "source": [
        "## Text Formatting\n",
        "\n",
        "You can make text **bold** or *italic*. You can also create `inline code` formatting.\n",
        "\n",
        "### Lists\n",
        "\n",
        "Unordered list:\n",
        "- First item\n",
        "- Second item\n",
        "- Third item\n",
        "\n",
        "Ordered list:\n",
        "1. First step\n",
        "2. Second step  \n",
        "3. Third step\n"
      ]
    },
    {
      "cell_type": "markdown",
      "metadata": {},
      "source": [
        "## Mathematical Expressions\n",
        "\n",
        "You can include mathematical expressions using LaTeX syntax:\n",
        "\n",
        "Inline math: $E = mc^2$\n",
        "\n",
        "Display math:\n",
        "$$\n",
        "\\int_{-\\infty}^{\\infty} e^{-x^2} dx = \\sqrt{\\pi}\n",
        "$$\n"
      ]
    },
    {
      "cell_type": "markdown",
      "metadata": {},
      "source": [
        "## Tables\n",
        "\n",
        "| Column 1 | Column 2 | Column 3 |\n",
        "|----------|----------|----------|\n",
        "| Row 1    | Data A   | Value 1  |\n",
        "| Row 2    | Data B   | Value 2  |\n",
        "| Row 3    | Data C   | Value 3  |\n"
      ]
    },
    {
      "cell_type": "markdown",
      "metadata": {},
      "source": [
        "## Code Blocks (Non-executable)\n",
        "\n",
        "You can show code syntax highlighting without execution:\n",
        "\n",
        "```python\n",
        "def hello_world():\n",
        "    print(\"Hello, World!\")\n",
        "    return 42\n",
        "```\n",
        "\n",
        "```bash\n",
        "# Install dependencies\n",
        "uv sync\n",
        "```\n"
      ]
    },
    {
      "cell_type": "markdown",
      "metadata": {},
      "source": [
        "## Links and Images\n",
        "\n",
        "- [Jupyter Documentation](https://jupyter.org/documentation)\n",
        "- [Markdown Guide](https://www.markdownguide.org/)\n",
        "- [Project Repository](https://github.com/{{cookiecutter.author_github_handle}}/{{cookiecutter.project_name}})\n"
      ]
    },
    {
      "cell_type": "markdown",
      "metadata": {},
      "source": [
        "## Conclusion\n",
        "\n",
        "This notebook showcases Jupyter's markdown formatting capabilities without any code execution. To create notebooks with executable code:\n",
        "\n",
        "1. Create new `.ipynb` files in this directory\n",
        "2. Add code cells with Python, R, or other language code\n",
        "\n",
        "Thiy serves as a foundation for building more complex computational notebooks."
      ]
    }
  ],
  "metadata": {
    "language_info": {
      "name": "python"
    }
  },
  "nbformat": 4,
  "nbformat_minor": 2
}
